# create python to calculate cash flow 
