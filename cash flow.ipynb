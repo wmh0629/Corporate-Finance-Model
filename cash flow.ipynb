# create python to calculate cash flow 

分期偿付表  Amortization schedule
https://en.wikipedia.org/wiki/Amortization_schedule




